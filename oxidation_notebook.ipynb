{
 "cells": [
  {
   "cell_type": "markdown",
   "id": "469443f4-0655-4980-9a1c-7c8b017d15d5",
   "metadata": {},
   "source": [
    "# __Oxidation notebook__"
   ]
  },
  {
   "cell_type": "markdown",
   "id": "4bf3f0b7",
   "metadata": {},
   "source": [
    "### RUN THIS CELL BEFORE YOU START THE NOTEBOOK\n"
   ]
  },
  {
   "cell_type": "code",
   "execution_count": null,
   "id": "aa617f98-293d-4f65-84f5-e745b64bebbe",
   "metadata": {
    "tags": []
   },
   "outputs": [],
   "source": [
    "import pandas as pd\n",
    "import matplotlib.pyplot as plt\n",
    "from scipy.interpolate import interp1d\n",
    "import numpy as np\n",
    "import ipywidgets as widgets\n",
    "from matplotlib.animation import FuncAnimation\n",
    "from IPython.display import display, HTML, Markdown\n",
    "from base64 import b64encode"
   ]
  },
  {
   "cell_type": "markdown",
   "id": "de7ba6e2-e635-437f-aa9b-6d4cfce49f4e",
   "metadata": {
    "user_expressions": []
   },
   "source": [
    "# *Theory Section*\n",
    "\n",
    "## __Thermal oxidation__\n",
    "__Thermal oxidation a type of process where silicon is\n",
    "transformed into its oxide at high\n",
    "temperature (850 ºC < T < 1200 ºC)\n",
    "using either water vapor (“wet\n",
    "oxidation”) or oxygen (“dry oxidation”). They are both Chemical Vapor Deposition (CVD) techniques as the deposition happends thanks to a chemical reaction at the surface of the substrat. They are thin film deposition techniques but are in a separate notebook as they are specific processes but widely used in industry for most of the processes. The high temperature speeds up the chemical reaction. At room temperature the oxidation wouldn't be possible (or limited to a few nanometers).__\n",
    "\n",
    "Oxidation of silicon is crucial as the oxide of silicon SiO2 is an extremely important material in semi-conductor technology. It is used for various purposes such as gate dielectric in MOS (Metal-Oxide-Semiconductor) transistors, insulator layers in integrated circuits, and protective layers against contamination and damage. The highly insulating nature of SiO2 allows it to be an effective barrier between different layers in the device, preventing current leakage and ensuring high performance. Additionally, SiO2 also possesses excellent thermal stability and good chemical resistance, making it an ideal choice for use in harsh environments. Moreover, it plays a fundamental role in photolithography processes, which are vital for pattern definition in semiconductor device fabrication. Oxidation of silicon thus has a direct impact on the performance and reliability of a wide range of electronic devices.\n",
    "\n",
    "Both techniques are performed by introducting the wafers inside furnaces which can heat up at high temperatures while injecting gazes in a vaccum.\n",
    "\n",
    "* __Wet oxidation__ is obtained done by adding $H_2O$ vapor inside the furnace. The $SiO_2$ is obtained by the following reaction: $ Si (s) + H_2O (l) = SiO_2 + 2H_2 (g) $\n",
    "* __Dry oxidation__ is obtained done by adding $O_2$ vapor inside the furnace. The $SiO_2$ is obtained by the following reaction: $Si (s) + O_2 (g) = SiO_2 (s)$\n",
    "<br>\n",
    "\n",
    "The thickness of the layer first grows linearly (thickness ~ time) but then follows a square root law (thickness ~ $\\sqrt time$ as the oxygene or water molecules need to diffuse through the $SiO_2$ to oxidize the $Si$. As you will see later the type of oxidation greatly depends on the type of $SiO_2$ layer you need.\n",
    "\n",
    "<img src=\"centrotherm image.JPG\" width=\"600\" height=\"400\">\n",
    "\n",
    "<br>\n",
    "\n",
    "_This the image of a typical furnace used for oxidation processes. They can perform both types of oxidation depending on the type of gas used and the gas diffuser system installed inside the furnace. As the processes are very long, they are designed for high throughput. In the zoomed image you can see the inside of the furnace where the process happends._\n",
    "\n",
    "Oxidation also works with other materials than silicon. Also the same machine can be used to diffuse other materials than oxygen or water vapor. For instance nitrogren can be used for nitride deposition ($Si_3N_4$).\n",
    "\n",
    "`Run the follwing cell to display the oxidation clip.`"
   ]
  },
  {
   "cell_type": "code",
   "execution_count": null,
   "id": "c731ed0b-6d22-4ebf-9124-f4325e1710cc",
   "metadata": {
    "tags": []
   },
   "outputs": [],
   "source": [
    "mp4 = open('oxidation_clip.mp4','rb').read()\n",
    "data_url = \"data:video/mp4;base64,\" + b64encode(mp4).decode()\n",
    "HTML(\"\"\"\n",
    "<video width=1000 controls>\n",
    "      <source src=\"%s\" type=\"video/mp4\">\n",
    "</video>\n",
    "\"\"\" % data_url)"
   ]
  },
  {
   "cell_type": "markdown",
   "id": "d9deb63f-ca63-43cf-a791-86e9d8331dea",
   "metadata": {
    "user_expressions": []
   },
   "source": [
    "_Clip description:_ This small clip shows you the processing of a batch of wafer inside a thermal oxidation furnace. As the process are very long the wafer are always processed in batch. They are hold by a special holder which resist the extrem heat of the machine. These furnaces can perform both types of oxidation. However in practice each chamber of the furnace is reserved for a single type of oxidation for purity and conveniancy conserns. Moreover this step tends to always happend in the first steps of the process as it requires to have access to the silicon of the wafer (which isn't possible if it is covered by layers of materials). The heat of the process also makes it almost incompatible with any other previous step as could damage some layers or create great stress in the structure."
   ]
  },
  {
   "cell_type": "markdown",
   "id": "756f0f79-c54f-4246-8b2b-1d477067bd60",
   "metadata": {
    "user_expressions": []
   },
   "source": [
    "# *Exercice Section*"
   ]
  },
  {
   "cell_type": "markdown",
   "id": "4928c2ae-2cbc-4704-b35e-a1d240fc44e9",
   "metadata": {
    "user_expressions": []
   },
   "source": [
    "* ## Goal of the exercice\n",
    "\n",
    "The goal of this notebook is to understand the effect of the parameters used in and oxidation process. In a first part you will import data of thickness versus time for different type of oxidation, temperature and time of process. Then you will be able to visualise the growth curves depending on the choice. "
   ]
  },
  {
   "cell_type": "markdown",
   "id": "c082ef65-0926-4518-aff6-7fb8503d69ff",
   "metadata": {
    "user_expressions": []
   },
   "source": [
    "* ## Parameters selection\n",
    "\n",
    "Play with the following graphs to find the most optimized parameters for your task. Select the tempareture and the type of oxidation with the buttons and find the time you want for the thickness you need to deposit. \n",
    "<br>\n",
    "_The file 'oxi_data.xlsx' contains real data based on measurements made by the engineers of the CMi._"
   ]
  },
  {
   "cell_type": "code",
   "execution_count": null,
   "id": "d6488b88-56a3-4745-b4eb-e6d17cd306cf",
   "metadata": {
    "tags": []
   },
   "outputs": [],
   "source": [
    "%matplotlib widget\n",
    "\n",
    "file_path = 'oxi_data.xlsx'  \n",
    "#this file contains the data for many processes possible\n",
    "#eache colum is a process, and the data in each cell is a pair of time;thickness values\n",
    "#indeed separated by a ;\n",
    "df = pd.read_excel(file_path, sheet_name=0)\n",
    "#df is a structure that contains a list of the column titles in df.columns\n",
    "\n",
    "dropdown1 = widgets.Dropdown(options=list(df.columns), description='Select column: ')\n",
    "#now a dropdown selector has been created with all the titles of the columns found in the data file.\n",
    "target_th= 200 #nm, this is your thickness target \n",
    "\n",
    "#print(enumerate(df['dry_880']))\n",
    "\n",
    "def interpolate_data(column):\n",
    "    x_vals = []\n",
    "    y_vals = []\n",
    "    for i, val in enumerate(column):\n",
    "        if pd.notnull(val):\n",
    "            # Split the string into two values separated by \";\"\n",
    "            x, y = val.split(\";\")\n",
    "            x_vals.append(int(x))\n",
    "            y_vals.append(int(y))\n",
    "    # Create an array of x values between the minimum and maximum values in x_vals\n",
    "    new_x = np.arange(min(x_vals), max(x_vals) + 1)\n",
    "    # Interpolate y values for the new x values\n",
    "    f = interp1d(x_vals, y_vals, kind='linear')\n",
    "    new_y = f(new_x)\n",
    "    return new_x, new_y\n",
    "\n",
    "# Define function to update plot based on dropdown selection\n",
    "def update_plot(column1, target):\n",
    "    x1, y1 = interpolate_data(df[column1])\n",
    "    #you can add mo x,y variables, and the respective columns in the update plot arguments\n",
    "    #if you want to plot more than one data curve\n",
    "    plt.figure(figsize=(11, 6))\n",
    "    plt.plot(x1, y1)\n",
    "    #you can plot more data curves adding a line here\n",
    "    plt.plot([0,max(x1)],[target_th,target_th]) #line for plotting the target thickness\n",
    "    plt.title(\"Interpolated Data for {}\".format(column1))\n",
    "    plt.xlabel(\"time [min]\")\n",
    "    plt.ylabel(\"thickness [nm]\")\n",
    "    plt.grid(which='both', linestyle='--', alpha=0.5)\n",
    "    plt.show()\n",
    "\n",
    "# Call update_plot function when dropdown selection changes\n",
    "widgets.interactive(update_plot, column1=dropdown1, target=target_th)\n",
    "\n",
    "#you can write here code for interpolating the exact time for the curve with the target value. \n",
    "#hint: use the interp1d function, almost like above... You can start: \n",
    "##### def interpolate_time(column,target_thickness)\n",
    "##\n",
    "##\n",
    "##\n",
    "##\n",
    "#target_time=interpolate_time(dropdown1,target_th)\n",
    "#convert the time from minutes, to hh:mm"
   ]
  },
  {
   "cell_type": "markdown",
   "id": "19e1fd31-01eb-419e-b0ac-6852f7ed0dbc",
   "metadata": {
    "user_expressions": []
   },
   "source": [
    "* ## Visualization of the process"
   ]
  },
  {
   "cell_type": "markdown",
   "id": "30ec3ffb-66ef-4af4-adce-8f194b211780",
   "metadata": {
    "user_expressions": []
   },
   "source": [
    "From the previous part, you are now informed to make a choice of process and duration. Indeed during your oxidation there are no sensors informing you of the oxide thickness so you have to choose this time prior to the oxidation. The oxide thickness is only measurerable after the process through metrology. Enter below the values selected. The values should be exactly one of those available in the previous part, otherwise it will not work.\n",
    "<br>\n",
    "__Fill the following values and run the cell to save them.__"
   ]
  },
  {
   "cell_type": "code",
   "execution_count": null,
   "id": "cfec5a34-d12f-4d6f-80bc-514c7da9dff4",
   "metadata": {
    "tags": []
   },
   "outputs": [],
   "source": [
    "time_of_oxidation = 3850 # in minutes\n",
    "type_of_oxidation = 'dry' # wet or dry (as a string)\n",
    "temperature_of_oxidation = 880 #in °C (one of the temperatures previously given) "
   ]
  },
  {
   "cell_type": "markdown",
   "id": "1cfd59fe-2485-4579-a5f6-a21c9bc8af23",
   "metadata": {
    "user_expressions": []
   },
   "source": [
    "The following code allows you to visualize your process for the selected parameters. \n",
    "<br>\n",
    "There are two things to observe. First the thickness that you obtain from what you selected, second you have a small animation which represents the oxidation process."
   ]
  },
  {
   "cell_type": "code",
   "execution_count": null,
   "id": "08c8925e-2c26-4a55-9a55-cfa77d9cc2d2",
   "metadata": {
    "tags": []
   },
   "outputs": [],
   "source": [
    "column = type_of_oxidation + '_' + str(temperature_of_oxidation)\n",
    "num_points = 50\n",
    "\n",
    "#PARAMETERS TO TUNE \n",
    "words = column.split('_')\n",
    "if words[0] == 'dry':\n",
    "    min_scale = 0.97\n",
    "    max_scale = 1.03\n",
    "    init_Si_thickness = 1\n",
    "    y_lim = 2.5\n",
    "else:\n",
    "    min_scale = 0.95\n",
    "    max_scale = 1.05\n",
    "    init_Si_thickness = 3\n",
    "    y_lim = 8\n",
    "\n",
    "    \n",
    "# Convert the semicolon-separated strings into separate columns for time and thickness\n",
    "df[['time', 'thickness']] = df[column].str.split(';', expand=True).astype(float)\n",
    "\n",
    "# Filter the data based on time_of_oxidation\n",
    "df_subset = df[df['time'] <= time_of_oxidation]\n",
    "\n",
    "# Create a limited linspace with the interpolation curve and add noise to the data\n",
    "noise = np.random.uniform(min_scale, max_scale, size=num_points)\n",
    "x_vals, y_vals = df_subset['time'].tolist(), df_subset['thickness'].tolist()\n",
    "x = np.linspace(min(x_vals), max(x_vals), num_points)\n",
    "y = np.interp(x, x_vals, y_vals)\n",
    "y = y * noise\n",
    "\n",
    "\n",
    "fig, ax = plt.subplots(figsize=(12, 6))\n",
    "# Set up the plot elements\n",
    "\n",
    "\n",
    "silicon = plt.Rectangle((0, 0), 1, init_Si_thickness, color='black', label='Silicon')\n",
    "oxide_upward = plt.Rectangle((0, init_Si_thickness), init_Si_thickness, 0, color='darkgrey', label='SiO2 (upward)')\n",
    "oxide_downward = plt.Rectangle((0, 0), init_Si_thickness, 0, color='grey', label='SiO2 (downward)')\n",
    "ax.add_patch(silicon)\n",
    "ax.add_patch(oxide_upward)\n",
    "ax.add_patch(oxide_downward)\n",
    "# Set up the axes and labels\n",
    "ax.set_xlim(0, 1)\n",
    "ax.set_ylim(0, y_lim)\n",
    "ax.axhline(y= init_Si_thickness, color='gray', linestyle='--', linewidth=1, label='Original Si height')\n",
    "ax.legend()\n",
    "\n",
    "    # Add title to the plot\n",
    "title = ax.set_title('Deal-Grove Model')\n",
    "title.set_position([.5, 1.1]) # Adjust position of the title\n",
    "title.set_fontsize(10) # Adjust font size of the title\n",
    "\n",
    "def update(frame):\n",
    "    oxide_thickness = y[frame] * 1e-3  # Convert thickness from nm to µm\n",
    "    downward_growth = oxide_thickness * 0.45  # 45% of oxide thickness grows downward\n",
    "    upward_growth = oxide_thickness * 0.55  # 55% of oxide thickness grows upward\n",
    "    silicon_height = 1 - downward_growth  # Calculate remaining silicon height\n",
    "    oxide_upward.set_height(upward_growth)\n",
    "    oxide_downward.set_height(downward_growth)\n",
    "    oxide_downward.set_y(init_Si_thickness - downward_growth)  # Adjust downward oxide layer position\n",
    "    ax.set_yticks([0, init_Si_thickness, init_Si_thickness - downward_growth, init_Si_thickness + upward_growth])\n",
    "    ax.set_ylim(0,y_lim)\n",
    "\n",
    "    ax.set_yticklabels([0, f\"{init_Si_thickness} µm (Si)\", f\"{downward_growth:.2f} µm (down)\", f\"{upward_growth:.2f} µm (upward)\"])\n",
    "    t = x[frame] # Get the exact value of t\n",
    "    title.set_text(f\"Growth of the $SiO_2$ at (t = {t:.0f} min)\")\n",
    "    # Print final thickness value\n",
    "    if frame == len(x) - 1:\n",
    "        display(Markdown(f\"<h2>Final oxide thickness: {oxide_thickness * 1000:.2f} nm</h2>\"))\n",
    "        \n",
    "ani = FuncAnimation(fig, update, frames=len(x), interval=100, repeat=False)\n",
    "\n",
    "plt.close()\n",
    "# Display the animation in JupyterLab\n",
    "html_code = ani.to_jshtml()\n",
    "centered_html = f'<div style=\"display: flex; justify-content: center;\">{html_code}</div>'\n",
    "display(HTML(centered_html))"
   ]
  },
  {
   "cell_type": "markdown",
   "id": "0da67007-7a8e-44b1-864e-6a928eee7e36",
   "metadata": {
    "user_expressions": []
   },
   "source": [
    "You can move the slider under the image to advance the time of the oxidation process. As the time advances, the oxide layer is represented with two colors:\n",
    "- The darker part is the oxide that ends up located under the original surface location.\n",
    "- The lighter part the oxdie that ends up above the original surface location. \n",
    "In reality there is no boundary between these two regions. The objective in using two colors is only to illustrate that the new oxide layer does not grow on top of the silicon. On the contrary, the growth of the oxide is achieved at the expense of consuming some of the Si (the one that was occupying the dark volume). The volume of the $SiO_2$ originated by the chemical reaction is greater than the one of the silicon consumed, so the $SiO_2$ layer occupies the dar and light volumes now. \n",
    "\n",
    "During the process the oxygen atoms are able to diffuse through the already-formed $SiO_2$ layer, reach the Si-SiO2 interface (between black and dark regions), and react with more silicon atoms to form $SiO_2$. Here part of the $Si$ atoms is consumed. As new $SiO_2$ molecules are formed at the Si-SiO2 interface, the molecular volume increase pushes the existing $SiO_2$ layer further \"upwards\" into the oxidizing environment. That is why part of the layer is below the original interface and part of it above. \n",
    "\n",
    "This bidirectional growth, due to the $SiO_2$ layer thickness being larger than the amount of silicon consumed, results in roughly half of the oxide growth extending into the silicon substrate and the other half extending outward. This observation is crucial for understanding and predicting the final thickness and location of the oxide layer, especially in the context of semiconductor device fabrication where precise control over layer dimensions is necessary."
   ]
  },
  {
   "cell_type": "markdown",
   "id": "d7306ac8-3837-4d51-8c13-b993a6ece816",
   "metadata": {
    "user_expressions": []
   },
   "source": [
    "# __This is the end of the oxidation notebook__\n",
    "\n",
    "Mind you that you can come back to this notebook at any time and change the parameters as many times as you need to answer all the questions in the exercises. "
   ]
  },
  {
   "cell_type": "code",
   "execution_count": null,
   "id": "11c6d7c0-c89f-41c0-938d-428888354dd3",
   "metadata": {},
   "outputs": [],
   "source": []
  }
 ],
 "metadata": {
  "kernelspec": {
   "display_name": "Python3",
   "language": "python",
   "name": "python3"
  },
  "language_info": {
   "codemirror_mode": {
    "name": "ipython",
    "version": 3
   },
   "file_extension": ".py",
   "mimetype": "text/x-python",
   "name": "python",
   "nbconvert_exporter": "python",
   "pygments_lexer": "ipython3",
   "version": "3.11.5"
  },
  "toc-autonumbering": true,
  "toc-showmarkdowntxt": false
 },
 "nbformat": 4,
 "nbformat_minor": 5
}
